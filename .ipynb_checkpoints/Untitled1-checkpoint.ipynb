{
 "cells": [
  {
   "cell_type": "code",
   "execution_count": 110,
   "metadata": {
    "collapsed": false
   },
   "outputs": [],
   "source": [
    "try:\n",
    "    from xml.etree import cElementTree as ET\n",
    "except:\n",
    "    from xml.etree import ElementTree as ET\n",
    "\n",
    "def extract_intersections(osm, verbose=True):\n",
    "    # This function takes an osm file as an input. It then goes through each xml \n",
    "    # element and searches for nodes that are shared by two or more ways.\n",
    "    # Parameter:\n",
    "    # - osm: An xml file that contains OpenStreetMap's map information\n",
    "    # - verbose: If true, print some outputs to terminal.\n",
    "    # \n",
    "    # Ex) extract_intersections('WashingtonDC.osm')\n",
    "    #\n",
    "    tree = ET.parse(osm)\n",
    "    root = tree.getroot()\n",
    "    counter = {}\n",
    "    for child in root:\n",
    "        if child.tag == 'way':\n",
    "            highway_tag = 0\n",
    "            node_list = []\n",
    "            for item in child:\n",
    "                if item.tag == 'nd':\n",
    "                    nd_ref = item.attrib['ref']\n",
    "                    node_list.append(nd_ref)\n",
    "                if item.tag == 'tag':\n",
    "                    if item.attrib['k'] == \"highway\":\n",
    "                        highway_tag = 1\n",
    "                    if item.attrib['k'] == \"name\":\n",
    "                        road_name =  item.attrib['v']\n",
    "            if highway_tag == 1:\n",
    "                for nd_ref in node_list:\n",
    "                    if not nd_ref in counter:\n",
    "                        counter[nd_ref] = []\n",
    "                    counter[nd_ref].append()\n",
    "\n",
    "    # Find nodes that are shared with more than one way, which\n",
    "    # might correspond to intersections\n",
    "    intersections = list(filter(lambda x: counter[x] > 1,  counter))\n",
    "    \n",
    "    # Extract intersection coordinates\n",
    "    # You can plot the result using this url.\n",
    "    # http://www.darrinward.com/lat-long/\n",
    "    intersection_coordinates = []\n",
    "    for child in root:\n",
    "        if child.tag == 'node' and child.attrib['id'] in intersections:\n",
    "            coordinate = child.attrib['lat'] + ',' + child.attrib['lon']\n",
    "            if verbose:\n",
    "                print(coordinate)\n",
    "            intersection_coordinates.append(coordinate)\n"
   ]
  },
  {
   "cell_type": "code",
   "execution_count": 111,
   "metadata": {
    "collapsed": false,
    "scrolled": true
   },
   "outputs": [
    {
     "name": "stdout",
     "output_type": "stream",
     "text": [
      "25.6258334,-100.2762127\n",
      "25.6267420,-100.2731233\n",
      "25.6253170,-100.2738972\n",
      "25.6257993,-100.2763256\n",
      "25.6195737,-100.2708514\n",
      "25.6219734,-100.2725745\n",
      "25.6245416,-100.2744278\n",
      "25.6239859,-100.2746824\n",
      "25.6225623,-100.2736104\n",
      "25.6243331,-100.2751807\n",
      "25.6238690,-100.2750474\n",
      "25.6233668,-100.2744354\n",
      "25.6241287,-100.2748951\n",
      "25.6247723,-100.2755101\n",
      "25.6256813,-100.2763689\n",
      "25.6245907,-100.2755493\n",
      "25.6247975,-100.2757889\n",
      "25.6261855,-100.2754875\n",
      "25.6256728,-100.2758687\n",
      "25.6264504,-100.2754878\n",
      "25.6269673,-100.2768193\n",
      "25.6253065,-100.2743117\n",
      "25.6267166,-100.2770216\n",
      "25.6260066,-100.2754873\n",
      "25.6253564,-100.2739880\n",
      "25.6256750,-100.2754869\n",
      "25.6266828,-100.2766444\n",
      "25.6256990,-100.2760309\n",
      "25.6254464,-100.2745944\n",
      "25.6255700,-100.2759490\n",
      "25.6258435,-100.2759730\n",
      "25.6251597,-100.2757837\n",
      "25.6250155,-100.2741718\n",
      "25.6256205,-100.2749033\n",
      "25.6260023,-100.2760701\n",
      "25.6261918,-100.2761860\n",
      "25.6258446,-100.2754871\n",
      "25.6264591,-100.2768501\n",
      "25.6261820,-100.2773762\n",
      "25.6240110,-100.2752481\n",
      "25.6258203,-100.2785498\n",
      "25.6258518,-100.2778685\n",
      "25.6259556,-100.2779312\n",
      "25.6244727,-100.2763054\n",
      "25.6260836,-100.2773129\n",
      "25.6234063,-100.2756285\n",
      "25.6216669,-100.2743818\n",
      "25.6247343,-100.2758371\n",
      "25.6228454,-100.2757404\n",
      "25.6242120,-100.2782362\n",
      "25.6250130,-100.2739837\n",
      "25.6240865,-100.2771074\n",
      "25.6237864,-100.2776786\n",
      "25.6242326,-100.2768521\n",
      "25.6257101,-100.2784833\n",
      "25.6251140,-100.2740106\n",
      "25.6251577,-100.2738998\n",
      "25.6252322,-100.2740563\n",
      "25.6244197,-100.2742953\n",
      "25.6232075,-100.2741396\n"
     ]
    }
   ],
   "source": [
    "extract_intersections(\"boulevardacap.osm\")"
   ]
  },
  {
   "cell_type": "code",
   "execution_count": null,
   "metadata": {
    "collapsed": false
   },
   "outputs": [],
   "source": []
  },
  {
   "cell_type": "code",
   "execution_count": null,
   "metadata": {
    "collapsed": true
   },
   "outputs": [],
   "source": []
  }
 ],
 "metadata": {
  "kernelspec": {
   "display_name": "Python 3",
   "language": "python",
   "name": "python3"
  },
  "language_info": {
   "codemirror_mode": {
    "name": "ipython",
    "version": 3
   },
   "file_extension": ".py",
   "mimetype": "text/x-python",
   "name": "python",
   "nbconvert_exporter": "python",
   "pygments_lexer": "ipython3",
   "version": "3.4.1"
  }
 },
 "nbformat": 4,
 "nbformat_minor": 0
}
